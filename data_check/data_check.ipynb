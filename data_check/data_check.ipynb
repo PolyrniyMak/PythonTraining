{
 "cells": [
  {
   "cell_type": "code",
   "execution_count": 1,
   "metadata": {},
   "outputs": [],
   "source": [
    "import pandas as pd\n",
    "import json"
   ]
  },
  {
   "cell_type": "code",
   "execution_count": 2,
   "metadata": {},
   "outputs": [
    {
     "name": "stdout",
     "output_type": "stream",
     "text": [
      "<_io.TextIOWrapper name='C:\\\\Users\\\\Егор\\\\Desktop\\\\foo294file0.txt' mode='r' encoding='utf8'>\n",
      "          3   4  5  6\n",
      "0         0   9  0  0\n",
      "1         0   8  0  0\n",
      "2         0   8  0  0\n",
      "3         0   2  0  0\n",
      "4         0  13  0  0\n",
      "...      ..  .. .. ..\n",
      "23956058  0   2  0  0\n",
      "23956059  0   2  0  0\n",
      "23956060  0   2  0  0\n",
      "23956061  0   2  0  0\n",
      "23956062  0   2  0  0\n",
      "\n",
      "[23956063 rows x 4 columns]\n"
     ]
    }
   ],
   "source": [
    "with open(r\"C:\\Users\\Егор\\Desktop\\foo294file0.txt\", \"r\", encoding=\"utf8\") as f:\n",
    "    data = json.load(f)\n",
    "    df = pd.DataFrame(data)"
   ]
  }
 ],
 "metadata": {
  "kernelspec": {
   "display_name": "Python 3",
   "language": "python",
   "name": "python3"
  },
  "language_info": {
   "codemirror_mode": {
    "name": "ipython",
    "version": 3
   },
   "file_extension": ".py",
   "mimetype": "text/x-python",
   "name": "python",
   "nbconvert_exporter": "python",
   "pygments_lexer": "ipython3",
   "version": "3.7.6"
  }
 },
 "nbformat": 4,
 "nbformat_minor": 4
}
